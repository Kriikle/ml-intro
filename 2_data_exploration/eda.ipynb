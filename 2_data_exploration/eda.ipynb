{
 "cells": [
  {
   "cell_type": "code",
   "execution_count": 1,
   "metadata": {},
   "outputs": [],
   "source": [
    "import pandas as pd\n",
    "import seaborn as sns\n",
    "import matplotlib.pyplot as plt\n"
   ]
  },
  {
   "cell_type": "code",
   "execution_count": 2,
   "metadata": {},
   "outputs": [],
   "source": [
    "train_path = \"train.csv\"\n",
    "data_titanic = pd.read_csv(train_path,index_col = \"PassengerId\")"
   ]
  },
  {
   "cell_type": "markdown",
   "metadata": {},
   "source": [
    "# Context\n",
    "    These data represent survivors and non-survivors from the Titanic.\n",
    "    The data of the persons are charachterized by gender, age, ticket number, etc. (Total 12 columns)\n",
    "    Goal/Target for data analisis is find the parametrs wich give us chance to survive Titanic or smt like that\n",
    "\n",
    "\n"
   ]
  },
  {
   "cell_type": "code",
   "execution_count": 3,
   "metadata": {},
   "outputs": [
    {
     "data": {
      "text/html": [
       "<div>\n",
       "<style scoped>\n",
       "    .dataframe tbody tr th:only-of-type {\n",
       "        vertical-align: middle;\n",
       "    }\n",
       "\n",
       "    .dataframe tbody tr th {\n",
       "        vertical-align: top;\n",
       "    }\n",
       "\n",
       "    .dataframe thead th {\n",
       "        text-align: right;\n",
       "    }\n",
       "</style>\n",
       "<table border=\"1\" class=\"dataframe\">\n",
       "  <thead>\n",
       "    <tr style=\"text-align: right;\">\n",
       "      <th></th>\n",
       "      <th>Survived</th>\n",
       "      <th>Pclass</th>\n",
       "      <th>Name</th>\n",
       "      <th>Sex</th>\n",
       "      <th>Age</th>\n",
       "      <th>SibSp</th>\n",
       "      <th>Parch</th>\n",
       "      <th>Ticket</th>\n",
       "      <th>Fare</th>\n",
       "      <th>Cabin</th>\n",
       "      <th>Embarked</th>\n",
       "    </tr>\n",
       "    <tr>\n",
       "      <th>PassengerId</th>\n",
       "      <th></th>\n",
       "      <th></th>\n",
       "      <th></th>\n",
       "      <th></th>\n",
       "      <th></th>\n",
       "      <th></th>\n",
       "      <th></th>\n",
       "      <th></th>\n",
       "      <th></th>\n",
       "      <th></th>\n",
       "      <th></th>\n",
       "    </tr>\n",
       "  </thead>\n",
       "  <tbody>\n",
       "    <tr>\n",
       "      <th>0</th>\n",
       "      <td>1</td>\n",
       "      <td>1</td>\n",
       "      <td>Oconnor, Frankie</td>\n",
       "      <td>male</td>\n",
       "      <td>NaN</td>\n",
       "      <td>2</td>\n",
       "      <td>0</td>\n",
       "      <td>209245</td>\n",
       "      <td>27.14</td>\n",
       "      <td>C12239</td>\n",
       "      <td>S</td>\n",
       "    </tr>\n",
       "    <tr>\n",
       "      <th>1</th>\n",
       "      <td>0</td>\n",
       "      <td>3</td>\n",
       "      <td>Bryan, Drew</td>\n",
       "      <td>male</td>\n",
       "      <td>NaN</td>\n",
       "      <td>0</td>\n",
       "      <td>0</td>\n",
       "      <td>27323</td>\n",
       "      <td>13.35</td>\n",
       "      <td>NaN</td>\n",
       "      <td>S</td>\n",
       "    </tr>\n",
       "    <tr>\n",
       "      <th>2</th>\n",
       "      <td>0</td>\n",
       "      <td>3</td>\n",
       "      <td>Owens, Kenneth</td>\n",
       "      <td>male</td>\n",
       "      <td>0.33</td>\n",
       "      <td>1</td>\n",
       "      <td>2</td>\n",
       "      <td>CA 457703</td>\n",
       "      <td>71.29</td>\n",
       "      <td>NaN</td>\n",
       "      <td>S</td>\n",
       "    </tr>\n",
       "    <tr>\n",
       "      <th>3</th>\n",
       "      <td>0</td>\n",
       "      <td>3</td>\n",
       "      <td>Kramer, James</td>\n",
       "      <td>male</td>\n",
       "      <td>19.00</td>\n",
       "      <td>0</td>\n",
       "      <td>0</td>\n",
       "      <td>A. 10866</td>\n",
       "      <td>13.04</td>\n",
       "      <td>NaN</td>\n",
       "      <td>S</td>\n",
       "    </tr>\n",
       "    <tr>\n",
       "      <th>4</th>\n",
       "      <td>1</td>\n",
       "      <td>3</td>\n",
       "      <td>Bond, Michael</td>\n",
       "      <td>male</td>\n",
       "      <td>25.00</td>\n",
       "      <td>0</td>\n",
       "      <td>0</td>\n",
       "      <td>427635</td>\n",
       "      <td>7.76</td>\n",
       "      <td>NaN</td>\n",
       "      <td>S</td>\n",
       "    </tr>\n",
       "    <tr>\n",
       "      <th>5</th>\n",
       "      <td>0</td>\n",
       "      <td>2</td>\n",
       "      <td>Sassano, Jonathan</td>\n",
       "      <td>male</td>\n",
       "      <td>35.00</td>\n",
       "      <td>0</td>\n",
       "      <td>0</td>\n",
       "      <td>13363</td>\n",
       "      <td>6.71</td>\n",
       "      <td>NaN</td>\n",
       "      <td>S</td>\n",
       "    </tr>\n",
       "    <tr>\n",
       "      <th>6</th>\n",
       "      <td>0</td>\n",
       "      <td>3</td>\n",
       "      <td>Conway, Jose</td>\n",
       "      <td>male</td>\n",
       "      <td>7.00</td>\n",
       "      <td>0</td>\n",
       "      <td>0</td>\n",
       "      <td>A/5</td>\n",
       "      <td>9.77</td>\n",
       "      <td>NaN</td>\n",
       "      <td>S</td>\n",
       "    </tr>\n",
       "    <tr>\n",
       "      <th>7</th>\n",
       "      <td>1</td>\n",
       "      <td>3</td>\n",
       "      <td>Werner, Linda</td>\n",
       "      <td>female</td>\n",
       "      <td>6.00</td>\n",
       "      <td>1</td>\n",
       "      <td>2</td>\n",
       "      <td>434426</td>\n",
       "      <td>31.50</td>\n",
       "      <td>NaN</td>\n",
       "      <td>S</td>\n",
       "    </tr>\n",
       "    <tr>\n",
       "      <th>8</th>\n",
       "      <td>0</td>\n",
       "      <td>1</td>\n",
       "      <td>Wardlaw, Michael</td>\n",
       "      <td>male</td>\n",
       "      <td>27.00</td>\n",
       "      <td>2</td>\n",
       "      <td>1</td>\n",
       "      <td>474849</td>\n",
       "      <td>73.02</td>\n",
       "      <td>A7253</td>\n",
       "      <td>S</td>\n",
       "    </tr>\n",
       "    <tr>\n",
       "      <th>9</th>\n",
       "      <td>0</td>\n",
       "      <td>2</td>\n",
       "      <td>Greigo, Rudy</td>\n",
       "      <td>male</td>\n",
       "      <td>66.00</td>\n",
       "      <td>0</td>\n",
       "      <td>0</td>\n",
       "      <td>6981</td>\n",
       "      <td>9.14</td>\n",
       "      <td>D2969</td>\n",
       "      <td>C</td>\n",
       "    </tr>\n",
       "  </tbody>\n",
       "</table>\n",
       "</div>"
      ],
      "text/plain": [
       "             Survived  Pclass               Name     Sex    Age  SibSp  Parch  \\\n",
       "PassengerId                                                                     \n",
       "0                   1       1   Oconnor, Frankie    male    NaN      2      0   \n",
       "1                   0       3        Bryan, Drew    male    NaN      0      0   \n",
       "2                   0       3     Owens, Kenneth    male   0.33      1      2   \n",
       "3                   0       3      Kramer, James    male  19.00      0      0   \n",
       "4                   1       3      Bond, Michael    male  25.00      0      0   \n",
       "5                   0       2  Sassano, Jonathan    male  35.00      0      0   \n",
       "6                   0       3       Conway, Jose    male   7.00      0      0   \n",
       "7                   1       3      Werner, Linda  female   6.00      1      2   \n",
       "8                   0       1   Wardlaw, Michael    male  27.00      2      1   \n",
       "9                   0       2       Greigo, Rudy    male  66.00      0      0   \n",
       "\n",
       "                Ticket   Fare   Cabin Embarked  \n",
       "PassengerId                                     \n",
       "0               209245  27.14  C12239        S  \n",
       "1                27323  13.35     NaN        S  \n",
       "2            CA 457703  71.29     NaN        S  \n",
       "3             A. 10866  13.04     NaN        S  \n",
       "4               427635   7.76     NaN        S  \n",
       "5                13363   6.71     NaN        S  \n",
       "6                 A/5    9.77     NaN        S  \n",
       "7               434426  31.50     NaN        S  \n",
       "8               474849  73.02   A7253        S  \n",
       "9                 6981   9.14   D2969        C  "
      ]
     },
     "execution_count": 3,
     "metadata": {},
     "output_type": "execute_result"
    }
   ],
   "source": [
    "data_titanic.head(10)"
   ]
  },
  {
   "cell_type": "markdown",
   "metadata": {},
   "source": [
    "    We can see wich decks survive the most\n",
    "        -First class cabins were located on decks from A to E \n",
    "        -Second class cabins were located on decks from D to G\n",
    "        -Third class cabins were located on decks from D to G\n",
    "\n",
    "\n",
    "    Folding boats were designed for 47 people each. The total capacity of the boats was 1,178 people, while the steamer was designed for 2,556 passengers and 908 crew members\n",
    "    \n",
    "    \n",
    "    "
   ]
  },
  {
   "cell_type": "markdown",
   "metadata": {},
   "source": [
    "# Data quality assessment\n",
    "    Here we will speak about our data."
   ]
  },
  {
   "cell_type": "markdown",
   "metadata": {},
   "source": [
    "1. – Cheking uniq values and data \n",
    "\n",
    "    1.1. As we see below,there is some nonunic name+surnames combinations.We can't drop them as they not duplicated rows.For example, here are the strings with the name \"Adams, Charles\"."
   ]
  },
  {
   "cell_type": "code",
   "execution_count": 4,
   "metadata": {},
   "outputs": [
    {
     "data": {
      "text/html": [
       "<div>\n",
       "<style scoped>\n",
       "    .dataframe tbody tr th:only-of-type {\n",
       "        vertical-align: middle;\n",
       "    }\n",
       "\n",
       "    .dataframe tbody tr th {\n",
       "        vertical-align: top;\n",
       "    }\n",
       "\n",
       "    .dataframe thead th {\n",
       "        text-align: right;\n",
       "    }\n",
       "</style>\n",
       "<table border=\"1\" class=\"dataframe\">\n",
       "  <thead>\n",
       "    <tr style=\"text-align: right;\">\n",
       "      <th></th>\n",
       "      <th>Survived</th>\n",
       "      <th>Pclass</th>\n",
       "      <th>Name</th>\n",
       "      <th>Sex</th>\n",
       "      <th>Age</th>\n",
       "      <th>SibSp</th>\n",
       "      <th>Parch</th>\n",
       "      <th>Ticket</th>\n",
       "      <th>Fare</th>\n",
       "      <th>Cabin</th>\n",
       "      <th>Embarked</th>\n",
       "    </tr>\n",
       "    <tr>\n",
       "      <th>PassengerId</th>\n",
       "      <th></th>\n",
       "      <th></th>\n",
       "      <th></th>\n",
       "      <th></th>\n",
       "      <th></th>\n",
       "      <th></th>\n",
       "      <th></th>\n",
       "      <th></th>\n",
       "      <th></th>\n",
       "      <th></th>\n",
       "      <th></th>\n",
       "    </tr>\n",
       "  </thead>\n",
       "  <tbody>\n",
       "    <tr>\n",
       "      <th>4756</th>\n",
       "      <td>0</td>\n",
       "      <td>3</td>\n",
       "      <td>Adams, Charles</td>\n",
       "      <td>male</td>\n",
       "      <td>43.0</td>\n",
       "      <td>0</td>\n",
       "      <td>0</td>\n",
       "      <td>448854</td>\n",
       "      <td>24.48</td>\n",
       "      <td>NaN</td>\n",
       "      <td>S</td>\n",
       "    </tr>\n",
       "    <tr>\n",
       "      <th>53997</th>\n",
       "      <td>0</td>\n",
       "      <td>3</td>\n",
       "      <td>Adams, Charles</td>\n",
       "      <td>male</td>\n",
       "      <td>24.0</td>\n",
       "      <td>0</td>\n",
       "      <td>0</td>\n",
       "      <td>46829</td>\n",
       "      <td>6.19</td>\n",
       "      <td>NaN</td>\n",
       "      <td>S</td>\n",
       "    </tr>\n",
       "    <tr>\n",
       "      <th>65259</th>\n",
       "      <td>0</td>\n",
       "      <td>2</td>\n",
       "      <td>Adams, Charles</td>\n",
       "      <td>male</td>\n",
       "      <td>51.0</td>\n",
       "      <td>1</td>\n",
       "      <td>1</td>\n",
       "      <td>4121045</td>\n",
       "      <td>12.23</td>\n",
       "      <td>NaN</td>\n",
       "      <td>S</td>\n",
       "    </tr>\n",
       "    <tr>\n",
       "      <th>73925</th>\n",
       "      <td>1</td>\n",
       "      <td>3</td>\n",
       "      <td>Adams, Charles</td>\n",
       "      <td>male</td>\n",
       "      <td>7.0</td>\n",
       "      <td>1</td>\n",
       "      <td>0</td>\n",
       "      <td>A/5</td>\n",
       "      <td>12.69</td>\n",
       "      <td>NaN</td>\n",
       "      <td>S</td>\n",
       "    </tr>\n",
       "    <tr>\n",
       "      <th>83604</th>\n",
       "      <td>1</td>\n",
       "      <td>1</td>\n",
       "      <td>Adams, Charles</td>\n",
       "      <td>male</td>\n",
       "      <td>61.0</td>\n",
       "      <td>0</td>\n",
       "      <td>0</td>\n",
       "      <td>SC/AH 423519</td>\n",
       "      <td>54.77</td>\n",
       "      <td>B11325</td>\n",
       "      <td>Q</td>\n",
       "    </tr>\n",
       "  </tbody>\n",
       "</table>\n",
       "</div>"
      ],
      "text/plain": [
       "             Survived  Pclass            Name   Sex   Age  SibSp  Parch  \\\n",
       "PassengerId                                                               \n",
       "4756                0       3  Adams, Charles  male  43.0      0      0   \n",
       "53997               0       3  Adams, Charles  male  24.0      0      0   \n",
       "65259               0       2  Adams, Charles  male  51.0      1      1   \n",
       "73925               1       3  Adams, Charles  male   7.0      1      0   \n",
       "83604               1       1  Adams, Charles  male  61.0      0      0   \n",
       "\n",
       "                   Ticket   Fare   Cabin Embarked  \n",
       "PassengerId                                        \n",
       "4756               448854  24.48     NaN        S  \n",
       "53997               46829   6.19     NaN        S  \n",
       "65259             4121045  12.23     NaN        S  \n",
       "73925                A/5   12.69     NaN        S  \n",
       "83604        SC/AH 423519  54.77  B11325        Q  "
      ]
     },
     "execution_count": 4,
     "metadata": {},
     "output_type": "execute_result"
    }
   ],
   "source": [
    "titanic_unic_names = data_titanic.groupby(\"Name\").size()\n",
    "titanic_unic_names[titanic_unic_names > 1].count()\n",
    "data_titanic = data_titanic.drop_duplicates()\n",
    "titanic_unic_names = data_titanic.groupby(\"Name\").size()\n",
    "titanic_unic_names[titanic_unic_names > 1].count()\n",
    "data_titanic[data_titanic.Name == \"Adams, Charles\"]"
   ]
  },
  {
   "cell_type": "markdown",
   "metadata": {},
   "source": [
    "\n",
    "2. – Cheking Nan values and replasing them or droping "
   ]
  },
  {
   "cell_type": "code",
   "execution_count": 5,
   "metadata": {},
   "outputs": [
    {
     "data": {
      "text/plain": [
       "Survived        0\n",
       "Pclass          0\n",
       "Name            0\n",
       "Sex             0\n",
       "Age          3292\n",
       "SibSp           0\n",
       "Parch           0\n",
       "Ticket       4623\n",
       "Fare          134\n",
       "Cabin       67866\n",
       "Embarked      250\n",
       "dtype: int64"
      ]
     },
     "execution_count": 5,
     "metadata": {},
     "output_type": "execute_result"
    }
   ],
   "source": [
    "data_titanic.isnull().sum()"
   ]
  },
  {
   "cell_type": "markdown",
   "metadata": {},
   "source": [
    "    -  Age colum. We will replace age missing data with mean of this data,becouse its will not affect so strong the reserch it will be like 3%(3292(count of NAN in age)/100000(row count))"
   ]
  },
  {
   "cell_type": "code",
   "execution_count": 6,
   "metadata": {},
   "outputs": [],
   "source": [
    "data_titanic[\"Age\"] = data_titanic[\"Age\"].fillna(round(data_titanic[\"Age\"].mean(),0))"
   ]
  },
  {
   "cell_type": "markdown",
   "metadata": {},
   "source": [
    "    - Ticket collum.I don't know what to link the tickets to and where to get the values from.So just ingnore the values, although in general it was possible to take mode or generate your own values."
   ]
  },
  {
   "cell_type": "code",
   "execution_count": 7,
   "metadata": {},
   "outputs": [],
   "source": [
    "data_titanic[\"Ticket\"] = data_titanic[\"Ticket\"].fillna(\"No\")"
   ]
  },
  {
   "cell_type": "markdown",
   "metadata": {},
   "source": [
    "    - Fare colum. Change Nan to mean value."
   ]
  },
  {
   "cell_type": "code",
   "execution_count": 8,
   "metadata": {},
   "outputs": [],
   "source": [
    "data_titanic[\"Fare\"] = data_titanic[\"Fare\"].fillna(data_titanic[\"Fare\"].mean())"
   ]
  },
  {
   "cell_type": "markdown",
   "metadata": {},
   "source": [
    "    - Cabin column.As we can see, the amount of missing data in the cabin column does not allow us to qualitatively investigate using this column, and if we replace it with average or mode, it will negatively affect the quality.so the solution is simply not to use this column in the investigation or use it to a minimum."
   ]
  },
  {
   "cell_type": "code",
   "execution_count": 9,
   "metadata": {},
   "outputs": [],
   "source": [
    "data_titanic[\"Cabin\"] = data_titanic[\"Cabin\"].fillna(\"NO\")"
   ]
  },
  {
   "cell_type": "markdown",
   "metadata": {},
   "source": [
    "    - Embarked      "
   ]
  },
  {
   "cell_type": "code",
   "execution_count": 10,
   "metadata": {},
   "outputs": [],
   "source": [
    "data_titanic = data_titanic.dropna()"
   ]
  },
  {
   "cell_type": "markdown",
   "metadata": {},
   "source": [
    "    Result of changing NAN"
   ]
  },
  {
   "cell_type": "code",
   "execution_count": 11,
   "metadata": {},
   "outputs": [
    {
     "data": {
      "text/plain": [
       "False"
      ]
     },
     "execution_count": 11,
     "metadata": {},
     "output_type": "execute_result"
    }
   ],
   "source": [
    "data_titanic.isnull().values.any()"
   ]
  },
  {
   "cell_type": "markdown",
   "metadata": {},
   "source": [
    "3. – Cheking colums types and changing it\n",
    "\n",
    "    "
   ]
  },
  {
   "cell_type": "code",
   "execution_count": 12,
   "metadata": {},
   "outputs": [
    {
     "name": "stdout",
     "output_type": "stream",
     "text": [
      "<class 'pandas.core.frame.DataFrame'>\n",
      "Int64Index: 99750 entries, 0 to 99999\n",
      "Data columns (total 11 columns):\n",
      "Survived    99750 non-null int64\n",
      "Pclass      99750 non-null int64\n",
      "Name        99750 non-null object\n",
      "Sex         99750 non-null object\n",
      "Age         99750 non-null float64\n",
      "SibSp       99750 non-null int64\n",
      "Parch       99750 non-null int64\n",
      "Ticket      99750 non-null object\n",
      "Fare        99750 non-null float64\n",
      "Cabin       99750 non-null object\n",
      "Embarked    99750 non-null object\n",
      "dtypes: float64(2), int64(4), object(5)\n",
      "memory usage: 9.1+ MB\n"
     ]
    }
   ],
   "source": [
    "data_titanic.info()"
   ]
  },
  {
   "cell_type": "markdown",
   "metadata": {},
   "source": [
    "    3.1 Changing choise values to numeric\n",
    "\n",
    "    "
   ]
  },
  {
   "cell_type": "code",
   "execution_count": 13,
   "metadata": {},
   "outputs": [
    {
     "data": {
      "text/html": [
       "<div>\n",
       "<style scoped>\n",
       "    .dataframe tbody tr th:only-of-type {\n",
       "        vertical-align: middle;\n",
       "    }\n",
       "\n",
       "    .dataframe tbody tr th {\n",
       "        vertical-align: top;\n",
       "    }\n",
       "\n",
       "    .dataframe thead th {\n",
       "        text-align: right;\n",
       "    }\n",
       "</style>\n",
       "<table border=\"1\" class=\"dataframe\">\n",
       "  <thead>\n",
       "    <tr style=\"text-align: right;\">\n",
       "      <th></th>\n",
       "      <th>Survived</th>\n",
       "      <th>Pclass</th>\n",
       "      <th>Name</th>\n",
       "      <th>Age</th>\n",
       "      <th>SibSp</th>\n",
       "      <th>Parch</th>\n",
       "      <th>Ticket</th>\n",
       "      <th>Fare</th>\n",
       "      <th>Cabin</th>\n",
       "      <th>Sex_id</th>\n",
       "      <th>Embark_id</th>\n",
       "    </tr>\n",
       "  </thead>\n",
       "  <tbody>\n",
       "    <tr>\n",
       "      <th>0</th>\n",
       "      <td>1</td>\n",
       "      <td>1</td>\n",
       "      <td>Oconnor, Frankie</td>\n",
       "      <td>38.00</td>\n",
       "      <td>2</td>\n",
       "      <td>0</td>\n",
       "      <td>209245</td>\n",
       "      <td>27.14</td>\n",
       "      <td>C12239</td>\n",
       "      <td>0</td>\n",
       "      <td>0</td>\n",
       "    </tr>\n",
       "    <tr>\n",
       "      <th>1</th>\n",
       "      <td>0</td>\n",
       "      <td>3</td>\n",
       "      <td>Bryan, Drew</td>\n",
       "      <td>38.00</td>\n",
       "      <td>0</td>\n",
       "      <td>0</td>\n",
       "      <td>27323</td>\n",
       "      <td>13.35</td>\n",
       "      <td>NO</td>\n",
       "      <td>0</td>\n",
       "      <td>0</td>\n",
       "    </tr>\n",
       "    <tr>\n",
       "      <th>2</th>\n",
       "      <td>0</td>\n",
       "      <td>3</td>\n",
       "      <td>Owens, Kenneth</td>\n",
       "      <td>0.33</td>\n",
       "      <td>1</td>\n",
       "      <td>2</td>\n",
       "      <td>CA 457703</td>\n",
       "      <td>71.29</td>\n",
       "      <td>NO</td>\n",
       "      <td>0</td>\n",
       "      <td>0</td>\n",
       "    </tr>\n",
       "    <tr>\n",
       "      <th>3</th>\n",
       "      <td>0</td>\n",
       "      <td>3</td>\n",
       "      <td>Kramer, James</td>\n",
       "      <td>19.00</td>\n",
       "      <td>0</td>\n",
       "      <td>0</td>\n",
       "      <td>A. 10866</td>\n",
       "      <td>13.04</td>\n",
       "      <td>NO</td>\n",
       "      <td>0</td>\n",
       "      <td>0</td>\n",
       "    </tr>\n",
       "    <tr>\n",
       "      <th>4</th>\n",
       "      <td>1</td>\n",
       "      <td>3</td>\n",
       "      <td>Bond, Michael</td>\n",
       "      <td>25.00</td>\n",
       "      <td>0</td>\n",
       "      <td>0</td>\n",
       "      <td>427635</td>\n",
       "      <td>7.76</td>\n",
       "      <td>NO</td>\n",
       "      <td>0</td>\n",
       "      <td>0</td>\n",
       "    </tr>\n",
       "    <tr>\n",
       "      <th>5</th>\n",
       "      <td>0</td>\n",
       "      <td>2</td>\n",
       "      <td>Sassano, Jonathan</td>\n",
       "      <td>35.00</td>\n",
       "      <td>0</td>\n",
       "      <td>0</td>\n",
       "      <td>13363</td>\n",
       "      <td>6.71</td>\n",
       "      <td>NO</td>\n",
       "      <td>0</td>\n",
       "      <td>0</td>\n",
       "    </tr>\n",
       "    <tr>\n",
       "      <th>6</th>\n",
       "      <td>0</td>\n",
       "      <td>3</td>\n",
       "      <td>Conway, Jose</td>\n",
       "      <td>7.00</td>\n",
       "      <td>0</td>\n",
       "      <td>0</td>\n",
       "      <td>A/5</td>\n",
       "      <td>9.77</td>\n",
       "      <td>NO</td>\n",
       "      <td>0</td>\n",
       "      <td>0</td>\n",
       "    </tr>\n",
       "    <tr>\n",
       "      <th>7</th>\n",
       "      <td>1</td>\n",
       "      <td>3</td>\n",
       "      <td>Werner, Linda</td>\n",
       "      <td>6.00</td>\n",
       "      <td>1</td>\n",
       "      <td>2</td>\n",
       "      <td>434426</td>\n",
       "      <td>31.50</td>\n",
       "      <td>NO</td>\n",
       "      <td>1</td>\n",
       "      <td>0</td>\n",
       "    </tr>\n",
       "    <tr>\n",
       "      <th>8</th>\n",
       "      <td>0</td>\n",
       "      <td>1</td>\n",
       "      <td>Wardlaw, Michael</td>\n",
       "      <td>27.00</td>\n",
       "      <td>2</td>\n",
       "      <td>1</td>\n",
       "      <td>474849</td>\n",
       "      <td>73.02</td>\n",
       "      <td>A7253</td>\n",
       "      <td>0</td>\n",
       "      <td>0</td>\n",
       "    </tr>\n",
       "    <tr>\n",
       "      <th>9</th>\n",
       "      <td>0</td>\n",
       "      <td>2</td>\n",
       "      <td>Greigo, Rudy</td>\n",
       "      <td>66.00</td>\n",
       "      <td>0</td>\n",
       "      <td>0</td>\n",
       "      <td>6981</td>\n",
       "      <td>9.14</td>\n",
       "      <td>D2969</td>\n",
       "      <td>0</td>\n",
       "      <td>2</td>\n",
       "    </tr>\n",
       "  </tbody>\n",
       "</table>\n",
       "</div>"
      ],
      "text/plain": [
       "   Survived  Pclass               Name    Age  SibSp  Parch     Ticket   Fare  \\\n",
       "0         1       1   Oconnor, Frankie  38.00      2      0     209245  27.14   \n",
       "1         0       3        Bryan, Drew  38.00      0      0      27323  13.35   \n",
       "2         0       3     Owens, Kenneth   0.33      1      2  CA 457703  71.29   \n",
       "3         0       3      Kramer, James  19.00      0      0   A. 10866  13.04   \n",
       "4         1       3      Bond, Michael  25.00      0      0     427635   7.76   \n",
       "5         0       2  Sassano, Jonathan  35.00      0      0      13363   6.71   \n",
       "6         0       3       Conway, Jose   7.00      0      0       A/5    9.77   \n",
       "7         1       3      Werner, Linda   6.00      1      2     434426  31.50   \n",
       "8         0       1   Wardlaw, Michael  27.00      2      1     474849  73.02   \n",
       "9         0       2       Greigo, Rudy  66.00      0      0       6981   9.14   \n",
       "\n",
       "    Cabin  Sex_id  Embark_id  \n",
       "0  C12239       0          0  \n",
       "1      NO       0          0  \n",
       "2      NO       0          0  \n",
       "3      NO       0          0  \n",
       "4      NO       0          0  \n",
       "5      NO       0          0  \n",
       "6      NO       0          0  \n",
       "7      NO       1          0  \n",
       "8   A7253       0          0  \n",
       "9   D2969       0          2  "
      ]
     },
     "execution_count": 13,
     "metadata": {},
     "output_type": "execute_result"
    }
   ],
   "source": [
    "Sex_data = pd.DataFrame({'Sex': [\"male\", \"female\"], 'Sex_id': [0, 1]})\n",
    "data_titanic = data_titanic.merge(Sex_data,left_on = \"Sex\" \n",
    "                                                  ,right_on = \"Sex\" \n",
    "                                                  ,how = \"left\" )\n",
    "data_titanic.drop(axis=1, index=None, columns=[\"Sex\"],inplace=True)\n",
    "Embark_data = pd.DataFrame({'Embarked': [\"S\", \"Q\",\"C\"], 'Embark_id': [0, 1,2]})\n",
    "data_titanic = data_titanic.merge(Embark_data,left_on = \"Embarked\" \n",
    "                                                  ,right_on = \"Embarked\" \n",
    "                                                  ,how = \"left\" )\n",
    "data_titanic.drop(axis=1, index=None, columns=[\"Embarked\"],inplace=True)\n",
    "data_titanic.head(10)"
   ]
  },
  {
   "cell_type": "markdown",
   "metadata": {},
   "source": [
    "# Data exploration\n",
    "    let's find the correlation"
   ]
  },
  {
   "cell_type": "code",
   "execution_count": 143,
   "metadata": {},
   "outputs": [
    {
     "data": {
      "text/plain": [
       "<matplotlib.axes._subplots.AxesSubplot at 0x249d73433c8>"
      ]
     },
     "execution_count": 143,
     "metadata": {},
     "output_type": "execute_result"
    },
    {
     "data": {
      "image/png": "[encoded data removed]",
      "text/plain": [
       "<Figure size 936x576 with 2 Axes>"
      ]
     },
     "metadata": {},
     "output_type": "display_data"
    }
   ],
   "source": [
    "sns.set(rc = {'figure.figsize':(13,8)})\n",
    "data_titanic.isnull().values.any() \n",
    "sns.heatmap(data_titanic.corr(), annot=True)"
   ]
  },
  {
   "cell_type": "markdown",
   "metadata": {},
   "source": [
    "    Our target is to find the best characteristics to survive the Titanic.\n",
    "        Survived to (Sex, Embarked, Pclass, fare, Age) Another claim have smell like <= 0.1 values. This column we will use for research survive ability on the titanic. I really want to use cabin to find survive ability (In my opinion, the deck would greatly affect survival), but I can't use this because of the large amount of missing data. If I generate or reconnect with fare or a ticket it will lower the quality of research.\n",
    "        \n",
    "    First,we check survived and unsurvived count\n",
    "        \n",
    "    "
   ]
  },
  {
   "cell_type": "code",
   "execution_count": 144,
   "metadata": {},
   "outputs": [
    {
     "data": {
      "image/png": "[encoded data removed]",
      "text/plain": [
       "<Figure size 432x432 with 1 Axes>"
      ]
     },
     "metadata": {},
     "output_type": "display_data"
    }
   ],
   "source": [
    "sns.set(rc = {'figure.figsize':(6,6)})\n",
    "data_survived = [len(data_titanic[data_titanic.Survived == True]),len(data_titanic[data_titanic.Survived == False])]\n",
    "labels = ['Survived', 'UnSurvived']\n",
    "#print(len(data_titanic) - len(data_titanic[data_titanic.Survived == True]) - len(data_titanic[data_titanic.Survived == False]))\n",
    "plt.pie(data_survived, labels = labels, colors = [\"g\",\"r\"], autopct='%.0f%%')\n",
    "plt.show()"
   ]
  },
  {
   "cell_type": "markdown",
   "metadata": {},
   "source": [
    "    As seen on a pie the 57% is unescaped the tragedy.\n",
    "   \n",
    "    Second, we will sea survive ability to age groups\n",
    "    1. Boxplot to see age distribution\n",
    "    2. Survive ability to age groups"
   ]
  },
  {
   "cell_type": "code",
   "execution_count": 115,
   "metadata": {},
   "outputs": [
    {
     "data": {
      "text/plain": [
       "<matplotlib.axes._subplots.AxesSubplot at 0x249d52ba6a0>"
      ]
     },
     "execution_count": 115,
     "metadata": {},
     "output_type": "execute_result"
    },
    {
     "data": {
      "image/png": "[encoded data removed]",
      "text/plain": [
       "<Figure size 1080x216 with 1 Axes>"
      ]
     },
     "metadata": {},
     "output_type": "display_data"
    }
   ],
   "source": [
    "sns.set(rc = {'figure.figsize':(15,3)})\n",
    "sns.boxplot(data_titanic.Age)"
   ]
  },
  {
   "cell_type": "code",
   "execution_count": 145,
   "metadata": {},
   "outputs": [
    {
     "data": {
      "image/png": "[encoded data removed]",
      "text/plain": [
       "<Figure size 864x432 with 1 Axes>"
      ]
     },
     "metadata": {},
     "output_type": "display_data"
    }
   ],
   "source": [
    "\n",
    "\n",
    "f,ax = plt.subplots(figsize=(12, 6))\n",
    "Age_count = data_titanic[[\"Age\",\"Survived\"]].groupby(\"Age\").count()[\"Survived\"].rename(\"count\")\n",
    "Age_categories =  [\"children (0 - 18 years)\",\"adult (18 - 30 years)\",\"midle (30 - 50 years) \",\"old (more 50 years) \"]\n",
    "\n",
    "children_count_all = Age_count[(Age_count.index >= 0) & (Age_count.index <= 18)].sum()\n",
    "adult_count_all = Age_count[(Age_count.index > 18) & (Age_count.index <= 30)].sum()\n",
    "midle_count_all = Age_count[(Age_count.index > 30) & (Age_count.index <= 50)].sum()\n",
    "old_count_all = Age_count[(Age_count.index > 50)].sum()\n",
    "#print(children_count + adult_count + midle_count + old_count)\n",
    "sns.barplot(x = Age_categories,\n",
    "            y = [children_count_all,adult_count_all,midle_count_all,old_count_all],\n",
    "            label=\"Total\",\n",
    "            color=\"b\")\n",
    "\n",
    "Age_count_surv = data_titanic[[\"Age\",\"Survived\"]][data_titanic.Survived == True].groupby(\"Age\").count()[\"Survived\"].rename(\"count\")\n",
    "children_count_surv = Age_count_surv[(Age_count_surv.index >= 0) & (Age_count_surv.index <= 18)].sum()\n",
    "adult_count_surv = Age_count_surv[(Age_count_surv.index > 18) & (Age_count_surv.index <= 30)].sum()\n",
    "midle_count_surv = Age_count_surv[(Age_count_surv.index > 30) & (Age_count_surv.index <= 50)].sum()\n",
    "old_count_surv = Age_count_surv[(Age_count_surv.index > 50)].sum()\n",
    "#print(children_count_surv + adult_count_surv + midle_count_surv + old_count_surv)\n",
    "sns.barplot(x = Age_categories,\n",
    "            y = [children_count_surv,adult_count_surv,midle_count_surv,old_count_surv],\n",
    "            label=\"Survived\",\n",
    "            color=\"g\")\n",
    "\n",
    "ax.legend(ncol=3, loc=\"lower right\", frameon=True)\n",
    "ax.set( ylabel=\"Count of a people\",\n",
    "       xlabel=\"Survived to all\")\n",
    "sns.despine(left=True, bottom=True)"
   ]
  },
  {
   "cell_type": "markdown",
   "metadata": {},
   "source": [
    "\n",
    "    As we see on this histogram like a half (50%) from children and the old group survived, the most deadly group is adults and the middle group is not so bad.\n",
    "    \n",
    "    The third thing we'll look at is fare\n"
   ]
  },
  {
   "cell_type": "code",
   "execution_count": 117,
   "metadata": {},
   "outputs": [
    {
     "data": {
      "text/plain": [
       "<matplotlib.axes._subplots.AxesSubplot at 0x249d5968c18>"
      ]
     },
     "execution_count": 117,
     "metadata": {},
     "output_type": "execute_result"
    },
    {
     "data": {
      "image/png": "[encoded data removed]",
      "text/plain": [
       "<Figure size 1080x216 with 1 Axes>"
      ]
     },
     "metadata": {},
     "output_type": "display_data"
    }
   ],
   "source": [
    "sns.set(rc = {'figure.figsize':(15,3)})\n",
    "sns.boxplot(data_titanic.Fare)\n"
   ]
  },
  {
   "cell_type": "markdown",
   "metadata": {},
   "source": [
    "    Boxplot give us information that a lot of values are in 0 - 75 gap,but there are some rich people.\n",
    "    \n",
    "    Pie diogram of fare"
   ]
  },
  {
   "cell_type": "code",
   "execution_count": 142,
   "metadata": {},
   "outputs": [
    {
     "data": {
      "image/png": "[encoded data removed]",
      "text/plain": [
       "<Figure size 432x432 with 1 Axes>"
      ]
     },
     "metadata": {},
     "output_type": "display_data"
    }
   ],
   "source": [
    "sns.set(rc = {'figure.figsize':(6,6)})\n",
    "data_survived = [len(data_titanic[data_titanic.Fare <= 25]),\n",
    "                 len(data_titanic[(data_titanic.Fare <= 75) & (data_titanic.Fare > 25)]),\n",
    "                 len(data_titanic[data_titanic.Fare > 75])]\n",
    "labels = ['Other (0 - 25)',\"Midle (25 - 75) \", 'Rich (more than 75)']\n",
    "\n",
    "plt.pie(data_survived, labels = labels, colors = [\"b\",\"y\",\"g\"], autopct='%.0f%%')\n",
    "plt.show()"
   ]
  },
  {
   "cell_type": "markdown",
   "metadata": {},
   "source": [
    "    Survive ability by group of fare\n",
    "    "
   ]
  },
  {
   "cell_type": "code",
   "execution_count": 149,
   "metadata": {},
   "outputs": [
    {
     "ename": "AttributeError",
     "evalue": "module 'seaborn' has no attribute 'histplot'",
     "output_type": "error",
     "traceback": [
      "\u001b[1;31m---------------------------------------------------------------------------\u001b[0m",
      "\u001b[1;31mAttributeError\u001b[0m                            Traceback (most recent call last)",
      "\u001b[1;32m<ipython-input-149-42ff5374f5d3>\u001b[0m in \u001b[0;36m<module>\u001b[1;34m\u001b[0m\n\u001b[1;32m----> 1\u001b[1;33m \u001b[0msns\u001b[0m\u001b[1;33m.\u001b[0m\u001b[0mhistplot\u001b[0m\u001b[1;33m(\u001b[0m\u001b[0mdata\u001b[0m\u001b[1;33m=\u001b[0m\u001b[0mdata_titanic\u001b[0m\u001b[1;33m,\u001b[0m \u001b[0mx\u001b[0m\u001b[1;33m=\u001b[0m\u001b[1;34m\"Fare\"\u001b[0m\u001b[1;33m)\u001b[0m\u001b[1;33m\u001b[0m\u001b[1;33m\u001b[0m\u001b[0m\n\u001b[0m",
      "\u001b[1;31mAttributeError\u001b[0m: module 'seaborn' has no attribute 'histplot'"
     ]
    }
   ],
   "source": [
    "\n",
    "sns.histplot(data=data_titanic, x=\"Fare\")"
   ]
  },
  {
   "cell_type": "markdown",
   "metadata": {},
   "source": [
    "# Summary"
   ]
  },
  {
   "cell_type": "code",
   "execution_count": null,
   "metadata": {},
   "outputs": [],
   "source": []
  }
 ],
 "metadata": {
  "kernelspec": {
   "display_name": "Python 3",
   "language": "python",
   "name": "python3"
  },
  "language_info": {
   "codemirror_mode": {
    "name": "ipython",
    "version": 3
   },
   "file_extension": ".py",
   "mimetype": "text/x-python",
   "name": "python",
   "nbconvert_exporter": "python",
   "pygments_lexer": "ipython3",
   "version": "3.7.3"
  },
  "toc": {
   "base_numbering": 1,
   "nav_menu": {},
   "number_sections": true,
   "sideBar": true,
   "skip_h1_title": false,
   "title_cell": "Table of Contents",
   "title_sidebar": "Contents",
   "toc_cell": false,
   "toc_position": {},
   "toc_section_display": true,
   "toc_window_display": false
  }
 },
 "nbformat": 4,
 "nbformat_minor": 5
}
