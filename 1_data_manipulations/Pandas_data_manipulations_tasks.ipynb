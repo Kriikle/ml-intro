{
 "cells": [
  {
   "cell_type": "markdown",
   "metadata": {},
   "source": [
    "# How to complete this assignment\n",
    "First, download [this Kaggle dataset](https://www.kaggle.com/hugomathien/soccer) and extract *sqlite* database. You may need to register at https://www.kaggle.com/ beforehand. Then complete 15 graded tasks below, the score is given in brackets. Finally submit the resulting `.ipynb` file to rs-app Auto-test.\n",
    "\n",
    "- Do not delete or rename the variables given before the inscription `#your code here`, they are needed for the correct verification.\n",
    "- Do not change the code in the last Notebook cell, it is required for the server check.\n",
    "- Your Notebook must run completely without errors to be graded! Please check everything before submission by going *Cell -> Run All*"
   ]
  },
  {
   "cell_type": "markdown",
   "metadata": {},
   "source": [
    "## Some important notes\n",
    "- If you need to **calculate the number of \"something\"** that means we expect you to assign an Integer to the given variable\n",
    "- If you need to **make a list of \"something\"** we expect you to assign a Python list with appropriate values to the given variable\n",
    "- If you need to find a **specifiс player, day of the week, team, etc.** we expect you to assign a String with the full name of the entity to the given variable (`player_name`, day of week full name, `team_name`, etc.)"
   ]
  },
  {
   "cell_type": "code",
   "execution_count": 1,
   "metadata": {},
   "outputs": [],
   "source": [
    "import sqlite3\n",
    "import pandas as pd\n",
    "import os\n",
    "\n",
    "pd.set_option('display.max_column', None)"
   ]
  },
  {
   "cell_type": "code",
   "execution_count": 2,
   "metadata": {},
   "outputs": [],
   "source": [
    "# Leave that code unchanged, it is required for the server check!\n",
    "db = sqlite3.connect(os.environ.get(\"DB_PATH\") or 'database.sqlite')"
   ]
  },
  {
   "cell_type": "code",
   "execution_count": 3,
   "metadata": {},
   "outputs": [],
   "source": [
    "# You may load the data from SQL table directly to the Pandas dataframe as\n",
    "player_data = pd.read_sql(\"SELECT * FROM Player;\", db)\n",
    "league_data = pd.read_sql(\"SELECT * FROM League;\", db)\n",
    "mathes_data = pd.read_sql(\"SELECT * FROM Match;\", db)\n",
    "team_data = pd.read_sql(\"SELECT * FROM Team;\", db)\n",
    "player_Attributes_data = pd.read_sql(\"SELECT * FROM Player_Attributes;\", db)"
   ]
  },
  {
   "cell_type": "code",
   "execution_count": 4,
   "metadata": {},
   "outputs": [
    {
     "data": {
      "text/html": [
       "<div>\n",
       "<style scoped>\n",
       "    .dataframe tbody tr th:only-of-type {\n",
       "        vertical-align: middle;\n",
       "    }\n",
       "\n",
       "    .dataframe tbody tr th {\n",
       "        vertical-align: top;\n",
       "    }\n",
       "\n",
       "    .dataframe thead th {\n",
       "        text-align: right;\n",
       "    }\n",
       "</style>\n",
       "<table border=\"1\" class=\"dataframe\">\n",
       "  <thead>\n",
       "    <tr style=\"text-align: right;\">\n",
       "      <th></th>\n",
       "      <th>id</th>\n",
       "      <th>player_api_id</th>\n",
       "      <th>player_name</th>\n",
       "      <th>player_fifa_api_id</th>\n",
       "      <th>birthday</th>\n",
       "      <th>height</th>\n",
       "      <th>weight</th>\n",
       "    </tr>\n",
       "  </thead>\n",
       "  <tbody>\n",
       "    <tr>\n",
       "      <th>0</th>\n",
       "      <td>1</td>\n",
       "      <td>505942</td>\n",
       "      <td>Aaron Appindangoye</td>\n",
       "      <td>218353</td>\n",
       "      <td>1992-02-29 00:00:00</td>\n",
       "      <td>182.88</td>\n",
       "      <td>187</td>\n",
       "    </tr>\n",
       "    <tr>\n",
       "      <th>1</th>\n",
       "      <td>2</td>\n",
       "      <td>155782</td>\n",
       "      <td>Aaron Cresswell</td>\n",
       "      <td>189615</td>\n",
       "      <td>1989-12-15 00:00:00</td>\n",
       "      <td>170.18</td>\n",
       "      <td>146</td>\n",
       "    </tr>\n",
       "    <tr>\n",
       "      <th>2</th>\n",
       "      <td>3</td>\n",
       "      <td>162549</td>\n",
       "      <td>Aaron Doran</td>\n",
       "      <td>186170</td>\n",
       "      <td>1991-05-13 00:00:00</td>\n",
       "      <td>170.18</td>\n",
       "      <td>163</td>\n",
       "    </tr>\n",
       "    <tr>\n",
       "      <th>3</th>\n",
       "      <td>4</td>\n",
       "      <td>30572</td>\n",
       "      <td>Aaron Galindo</td>\n",
       "      <td>140161</td>\n",
       "      <td>1982-05-08 00:00:00</td>\n",
       "      <td>182.88</td>\n",
       "      <td>198</td>\n",
       "    </tr>\n",
       "    <tr>\n",
       "      <th>4</th>\n",
       "      <td>5</td>\n",
       "      <td>23780</td>\n",
       "      <td>Aaron Hughes</td>\n",
       "      <td>17725</td>\n",
       "      <td>1979-11-08 00:00:00</td>\n",
       "      <td>182.88</td>\n",
       "      <td>154</td>\n",
       "    </tr>\n",
       "  </tbody>\n",
       "</table>\n",
       "</div>"
      ],
      "text/plain": [
       "   id  player_api_id         player_name  player_fifa_api_id  \\\n",
       "0   1         505942  Aaron Appindangoye              218353   \n",
       "1   2         155782     Aaron Cresswell              189615   \n",
       "2   3         162549         Aaron Doran              186170   \n",
       "3   4          30572       Aaron Galindo              140161   \n",
       "4   5          23780        Aaron Hughes               17725   \n",
       "\n",
       "              birthday  height  weight  \n",
       "0  1992-02-29 00:00:00  182.88     187  \n",
       "1  1989-12-15 00:00:00  170.18     146  \n",
       "2  1991-05-13 00:00:00  170.18     163  \n",
       "3  1982-05-08 00:00:00  182.88     198  \n",
       "4  1979-11-08 00:00:00  182.88     154  "
      ]
     },
     "execution_count": 4,
     "metadata": {},
     "output_type": "execute_result"
    }
   ],
   "source": [
    "player_data.head()\n",
    "#league_data.head()\n",
    "#mathes_data.head()"
   ]
  },
  {
   "cell_type": "markdown",
   "metadata": {},
   "source": [
    "**Task 1 (0.25 point).** Calculate the number of players with a height between 180 and 190 inclusive"
   ]
  },
  {
   "cell_type": "code",
   "execution_count": 275,
   "metadata": {},
   "outputs": [],
   "source": [
    "players_180_190 = len(player_data.id[(player_data.height >= 180) & (player_data.height <= 190)])# Your code here"
   ]
  },
  {
   "cell_type": "markdown",
   "metadata": {},
   "source": [
    "**Task 2 (0.25 point).** Calculate the number of players born in 1980. <br>\n",
    "**Hint:** you may want to cast your 'birthday' column to DateTime type by [pandas.to_datetime](https://pandas.pydata.org/docs/reference/api/pandas.to_datetime.html)"
   ]
  },
  {
   "cell_type": "code",
   "execution_count": 276,
   "metadata": {},
   "outputs": [],
   "source": [
    "players_1980 = len(player_data.birthday[pd.to_datetime(player_data.birthday).dt.year == 1980])# Your code here"
   ]
  },
  {
   "cell_type": "markdown",
   "metadata": {},
   "source": [
    "**Task 3 (0.25 point).** Make a list of the top 10 players with the highest weight sorted in descending order. If there are several players with the same weight put them in the lexicographic order by name."
   ]
  },
  {
   "cell_type": "code",
   "execution_count": 6,
   "metadata": {},
   "outputs": [
    {
     "name": "stdout",
     "output_type": "stream",
     "text": [
      "['Kristof van Hout', 'Tim Wiese', 'Jeroen Verhoeven', 'Ishmael Miller', 'Cassio', 'Christopher Samba', 'Lars Unnerstall', 'Marcus Hahnemann', 'Abdoulaye Faye', 'Enoch Showunmi']\n"
     ]
    }
   ],
   "source": [
    "highest_players = player_data.sort_values(by = [\"weight\", \"player_name\"],ascending = [False,True])[0:10]# Your code here\n",
    "highest_players = list(highest_players[\"player_name\"])\n",
    "print(highest_players)"
   ]
  },
  {
   "cell_type": "markdown",
   "metadata": {},
   "source": [
    "**Task 4 (0.5 point).** Make a list of tuples containing years along with the number of players born in that year from 1980 up to 1990. <br>\n",
    "**Structure example**: [(1980, 123), (1981, 140) ..., (1990, 83)] -> There were born 123 players in 1980, there were born 140 players in 1981 and etc."
   ]
  },
  {
   "cell_type": "code",
   "execution_count": 5,
   "metadata": {},
   "outputs": [
    {
     "name": "stdout",
     "output_type": "stream",
     "text": [
      "[(1980, 434), (1981, 475), (1982, 487), (1983, 541), (1984, 607), (1985, 593), (1986, 710), (1987, 722), (1988, 802), (1989, 723), (1990, 696)]\n"
     ]
    }
   ],
   "source": [
    "players_yearaq = pd.to_datetime(player_data.birthday).dt.year\n",
    "players_yearaq = players_yearaq[(players_yearaq >= 1980) & (players_yearaq <= 1990)].value_counts().sort_index()\n",
    "years_born_players = []\n",
    "for i in players_yearaq.index:\n",
    "    years_born_players.append((i,players_yearaq[i]))\n",
    "print(years_born_players)"
   ]
  },
  {
   "cell_type": "markdown",
   "metadata": {},
   "source": [
    "**Task 5 (0.5 point).** Calculate the mean and the standard deviation of the players' **height** with the name **Adriano**. <br>\n",
    "**Note:** Name is represented by the first part of `player_name`."
   ]
  },
  {
   "cell_type": "code",
   "execution_count": 8,
   "metadata": {},
   "outputs": [
    {
     "name": "stdout",
     "output_type": "stream",
     "text": [
      "                  player_name  height\n",
      "184         Adriano De Pierro  185.42\n",
      "185          Adriano Facchini  187.96\n",
      "186    Adriano Ferreira Pinto  177.80\n",
      "187      Adriano Jose de Lara  185.42\n",
      "188  Adriano Pereira da Silva  180.34\n",
      "189             Adriano Russo  185.42\n",
      "190                   Adriano  175.26\n",
      "191                   Adriano  187.96\n",
      "192                   Adriano  172.72\n",
      "193                   Adriano  182.88\n"
     ]
    }
   ],
   "source": [
    "andario_name = player_data[[\"player_name\",\"height\"]]\n",
    "andario_name['player_name'].astype('|S',copy=False)\n",
    "andario_name = andario_name[andario_name['player_name'].str.startswith(\"Adriano\")]\n",
    "print(andario_name)\n",
    "adriano_mean, adriano_std = andario_name['height'].mean(),andario_name['height'].std() # Your code hereAdrian\n",
    "#print(adriano_mean,adriano_std)"
   ]
  },
  {
   "cell_type": "markdown",
   "metadata": {},
   "source": [
    "**Task 6 (0.75 point).** How many players were born on each day of the week? Find the day of the week with the minimum number of players born."
   ]
  },
  {
   "cell_type": "code",
   "execution_count": 280,
   "metadata": {},
   "outputs": [],
   "source": [
    "\n",
    "player_born_Tsk6 = pd.to_datetime(player_data.birthday).dt.day_name().value_counts()\n",
    "dow_with_min_players_born = player_born_Tsk6.index[player_born_Tsk6 == player_born_Tsk6.min()][0]\n"
   ]
  },
  {
   "cell_type": "markdown",
   "metadata": {},
   "source": [
    "**Task 7 (0.75 point).** Find a league with the most matches in total. If there are several leagues with the same amount of matches, take the first in the lexical order."
   ]
  },
  {
   "cell_type": "code",
   "execution_count": 281,
   "metadata": {},
   "outputs": [],
   "source": [
    "\n",
    "maches_count_tsk7 =  league_data.merge(mathes_data,left_on='id', right_on='league_id',how='outer')[[\"name\"]].groupby([\"name\"]).size()\n",
    "league_most_matches  =  maches_count_tsk7.index[maches_count_tsk7 == maches_count_tsk7.max()][0]\n",
    "#print(league_most_matches)"
   ]
  },
  {
   "cell_type": "markdown",
   "metadata": {},
   "source": [
    "**Task 8 (1.25 point).** Find a player who participated in the largest number of matches during the whole match history. Assign a `player_name` to the given variable"
   ]
  },
  {
   "cell_type": "code",
   "execution_count": 282,
   "metadata": {},
   "outputs": [],
   "source": [
    "#print(mathes_data.merge(mathes_data,left_on='id', right_on='league_id',how='outer'))\n",
    "\n",
    "playeres_mathes_tsk8 = mathes_data\n",
    "player_count_tsk8 = 0\n",
    "\n",
    "for i in range(1,12):\n",
    "            player_count_tsk8 = player_data[[\"player_api_id\"]].merge(playeres_mathes_tsk8[\"home_player_\" \n",
    "                        + str(i)],left_on = \"player_api_id\" ,right_on = \"home_player_\" \n",
    "                        + str(i),how = \"left\" ).groupby('player_api_id').size() + player_count_tsk8 - 1\n",
    "           \n",
    "            player_count_tsk8 = player_data[[\"player_api_id\"]].merge(playeres_mathes_tsk8[\"away_player_\" \n",
    "                        + str(i)],left_on = \"player_api_id\" ,right_on = \"away_player_\" \n",
    "                        + str(i),how = \"left\" ).groupby('player_api_id').size() + player_count_tsk8 - 1 \n",
    "\n",
    "\n",
    "max_matches_player = player_data[player_data.player_api_id == player_count_tsk8.idxmax()][\"player_name\"].iloc[0]\n",
    "#print(max_matches_player)"
   ]
  },
  {
   "cell_type": "markdown",
   "metadata": {},
   "source": [
    "**Task 9 (1.5 point).** List top-5 tuples of most correlated **player's characteristics** in the descending order of the absolute [Pearson's coefficient](https://en.wikipedia.org/wiki/Pearson_correlation_coefficient) value.\n",
    "\n",
    "**Note 1:** Players characteristics are all the columns in `Player_Attributes` table except `[id, player_fifa_api_id, player_api_id, date, preferred_foot, attacking_work_rate, defensive_work_rate]`). <br>\n",
    "**Note 2:** Exclude duplicated pairs from the list. E.g. ('gk_handling', 'gk_reflexes') and ('gk_reflexes', 'gk_handling') are duplicates, leave just one of them in the resulting list.\n",
    "\n",
    "**Hint:** You may use [dataframe.corr()](https://pandas.pydata.org/docs/reference/api/pandas.DataFrame.corr.html) for calculating pairwise Pearson correlation."
   ]
  },
  {
   "cell_type": "code",
   "execution_count": 283,
   "metadata": {},
   "outputs": [],
   "source": [
    "def one_to_zero(x):\n",
    "    if x == 1:\n",
    "        return 0\n",
    "    else:\n",
    "        return x\n",
    "\n",
    "    \n",
    "player_Attributes_data_tsk_9 = player_Attributes_data.drop([\"id\", \"player_fifa_api_id\", \"player_api_id\",\n",
    "                                                           \"date\", \"preferred_foot\", \"attacking_work_rate\",\n",
    "                                                           \"defensive_work_rate\"],axis = 1)\n",
    "player_Attributes_data_tsk_9 = player_Attributes_data_tsk_9.corr().applymap(lambda x: one_to_zero(x))\n",
    "col_tsk9 = list(player_Attributes_data_tsk_9.columns.values)\n",
    "\n",
    "col_tsk9 = list(player_Attributes_data_tsk_9.columns.values)\n",
    "len_col_tsk9 = len(col_tsk9)\n",
    "col_names = []\n",
    "player_tsk9_fin = pd.DataFrame(columns = [\"name\"])\n",
    "\n",
    "for i in col_tsk9[0:]:\n",
    "    player_tsk9_fin = pd.concat([player_Attributes_data_tsk_9[i],player_tsk9_fin])\n",
    "    a = ( [i for j in range(0,len_col_tsk9)])\n",
    "    col_names =  a + col_names\n",
    "player_tsk9_fin[\"name\"] = col_names\n",
    "player_tsk9_fin = player_tsk9_fin.rename(columns = {0:\"value\"})\n",
    "#print(player_tsk9_fin)\n",
    "\n",
    "\n",
    "\n",
    "\n",
    "\n",
    "player_tsk9_fin.sort_values('value',ascending=False,inplace = True)\n",
    "#print(player_tsk9_fin[:10])\n",
    "player_tsk9_fin.drop_duplicates(subset=['value'], keep=\"first\", inplace=True)\n",
    "#print(player_tsk9_fin)\n",
    "top_correlated_features = [(player_tsk9_fin.index[0], player_tsk9_fin.name[0]),\n",
    "                            (player_tsk9_fin.index[1], player_tsk9_fin.name[1]),\n",
    "                            (player_tsk9_fin.index[2], player_tsk9_fin.name[2]),\n",
    "                            (player_tsk9_fin.index[3], player_tsk9_fin.name[3]),\n",
    "                            (player_tsk9_fin.index[4], player_tsk9_fin.name[4]),]# Your code here"
   ]
  },
  {
   "cell_type": "markdown",
   "metadata": {},
   "source": [
    "**Task 10 (2 points).** Find top-5 most similar players to **Neymar** whose names are given. The similarity is measured as [Euclidean distance](https://en.wikipedia.org/wiki/Euclidean_distance) between vectors of players' characteristics (described in the task above). Put their names in a vector in ascending order by Euclidean distance and sorted by `player_name` if the distance is the same<br>\n",
    "**Note 1:** There are many records for some players in the `Player_Attributes` table. You need to take the freshest data (characteristics with the most recent `date`). <br>\n",
    "**Note 2:** Use pure values of the characteristics even if you are aware of such preprocessing technics as normalization. <br>\n",
    "**Note 3:** Please avoid using any built-in methods for calculating the Euclidean distance between vectors, think about implementing your own."
   ]
  },
  {
   "cell_type": "code",
   "execution_count": 284,
   "metadata": {},
   "outputs": [],
   "source": [
    "def Summ_list(x, y):\n",
    "        return list(map(lambda a, b: (a - b)**2, x, y))\n",
    "    \n",
    "def Euclidean_distance(p,q):\n",
    "    count = Summ_list(p,q)\n",
    "    return sum(count)**(1/2)\n",
    "\n",
    "\n",
    "Fotballer_api_tsk10 = player_data[[\"player_api_id\"]][player_data.player_name.str.contains(\"Neymar\")].reset_index()\n",
    "Fotballer_api_tsk10 = int(Fotballer_api_tsk10.player_api_id[0])\n",
    "\n",
    "#tsk10_cor_fear = ','.join(['%s,%s' % tup for tup in top_correlated_features]).split(\",\")\n",
    "#tsk10_cor_fear = [\"player_api_id\",\"date\"]+ tsk10_cor_fear\n",
    "player_Attributes_data_tsk_10 = player_Attributes_data.drop([\"id\", \"player_fifa_api_id\",\n",
    "                                                            \"preferred_foot\", \"attacking_work_rate\",\n",
    "                                                            \"defensive_work_rate\"],axis = 1).dropna()\n",
    "\n",
    "player_Attributes_data_tsk_10 = player_Attributes_data_tsk_10.sort_values([\"player_api_id\",\"date\"],\n",
    "                                                                          ascending = [False,False])\n",
    "\n",
    "#print(player_Attributes_data_tsk_10[[\"player_api_id\",\"date\"]])\n",
    "#print(player_Attributes_data_tsk_10[player_Attributes_data_tsk_10.player_api_id == Fotballer_api_tsk10])\n",
    "player_Attributes_data_tsk_10.drop_duplicates(subset=['player_api_id'], keep=\"first\", inplace=True)\n",
    "\n",
    "#print(player_Attributes_data_tsk_10[player_Attributes_data_tsk_10.player_api_id == Fotballer_api_tsk10])\n",
    "player_Attributes_data_tsk_10 = player_Attributes_data_tsk_10.drop(\"date\",axis = 1)\n",
    "\n",
    "\n",
    "Fotballer_tsk10 = player_Attributes_data_tsk_10[player_Attributes_data_tsk_10.player_api_id == 19533]\n",
    "Fotballer_tsk10 = Fotballer_tsk10.drop(\"player_api_id\",axis = 1).values.tolist()\n",
    "#print(Fotballer_tsk10)\n",
    "\n",
    "\n",
    "col_tsk10 = list(player_Attributes_data_tsk_10.columns.values)\n",
    "col_tsk10.remove('player_api_id')\n",
    "#print(col_tsk10)\n",
    "#player_Attributes_data_tsk_10 = player_Attributes_data_tsk_10.loc[:,~player_Attributes_data_tsk_10.columns.duplicated()]\n",
    "\n",
    "player_Attributes_data_tsk_10 = player_Attributes_data_tsk_10.set_index(\"player_api_id\")\n",
    "\n",
    "#print(player_Attributes_data_tsk_10)\n",
    "#Neumar_dist_tsk10 = Euclidean_distance(list(player_Attributes_data_tsk_10.loc[Fotballer_api_tsk10][first_list_atr]),\n",
    "#                        list(player_Attributes_data_tsk_10.loc[Fotballer_api_tsk10][second_list_atr]))\n",
    "#Neumar_dist_tsk10\n",
    "fotbalers_dist_tsk10 = player_Attributes_data_tsk_10.apply(lambda row: Euclidean_distance(list(row[col_tsk10]),\n",
    "                                                                           Fotballer_tsk10[0]),axis=1).rename(\"value\")\n",
    "\n",
    "fotbalers_dist_tsk10 = fotbalers_dist_tsk10.sort_values()\n",
    "fotbalers_dist_tsk10 = player_data[[\"player_api_id\",\"player_name\"]].merge(fotbalers_dist_tsk10,left_on = \"player_api_id\" \n",
    "                            ,right_on = \"player_api_id\" \n",
    "                            ,how = \"left\" ).sort_values([\"value\",\"player_name\"])\n",
    "\n",
    "neymar_similarities = list(fotbalers_dist_tsk10[1:6][\"player_name\"])# Your code here\n",
    "#print(neymar_similarities)"
   ]
  },
  {
   "cell_type": "markdown",
   "metadata": {},
   "source": [
    "**Task 11 (1 point).** Calculate the number of home matches played by the **Borussia Dortmund** team in **Germany 1. Bundesliga** in season **2008/2009**"
   ]
  },
  {
   "cell_type": "code",
   "execution_count": 285,
   "metadata": {},
   "outputs": [],
   "source": [
    "#api_id_tsk11 = int(team_data[\"team_api_id\"][team_data.team_long_name.str.contains(\"Borussia Dortmund\")])\n",
    "#id_league_tsk11 = int(league_data[\"id\"][league_data.name.str.contains(\"Germany 1. Bundesliga\")])\n",
    "mathes_data_tsk11 = mathes_data[[\"league_id\",\"home_team_api_id\",\"season\"]]\n",
    "mathes_data_tsk11['season'].astype('|S',copy=False)\n",
    "borussia_bundesliga_2008_2009_matches = len(mathes_data_tsk11[(mathes_data_tsk11.season.str.contains(\"2008/2009\")) &\n",
    "        (mathes_data_tsk11.league_id == int(league_data[\"id\"][league_data.name.str.contains(\"Germany 1. Bundesliga\")])) &\n",
    "        (mathes_data_tsk11.home_team_api_id == int(team_data[\"team_api_id\"][team_data.team_long_name.str.contains(\"Borussia Dortmund\")]))])"
   ]
  },
  {
   "cell_type": "markdown",
   "metadata": {},
   "source": [
    "**Task 12 (1 point).** Find a team having the most matches (both home and away!) in the **Germany 1. Bundesliga** in **2008/2009** season. Return number of matches."
   ]
  },
  {
   "cell_type": "code",
   "execution_count": 286,
   "metadata": {},
   "outputs": [],
   "source": [
    "team_data_tsk12 = team_data[[\"team_long_name\",\"team_api_id\"]]\n",
    "mathes_data_tsk12 = mathes_data[[\"home_team_api_id\",\"away_team_api_id\"\n",
    "                ,\"season\"]][mathes_data.league_id == int(league_data[\"id\"][league_data.name.str.contains(\"Germany 1. Bundesliga\")])]\n",
    "mathes_data_tsk12['season'].astype('|S',copy=False)\n",
    "mathes_data_tsk12 = mathes_data_tsk12[mathes_data_tsk12.season.str.contains(\"2008/2009\")]\n",
    "mathes_count_tsk12 = team_data_tsk12.merge(mathes_data_tsk12[\"home_team_api_id\"],left_on = \"team_api_id\" \n",
    "                                                  ,right_on = \"home_team_api_id\" \n",
    "                                                  ,how = \"left\" ).groupby(\"team_long_name\").size() \n",
    "mathes_count_tsk12 = team_data_tsk12.merge(mathes_data_tsk12[\"away_team_api_id\"],left_on = \"team_api_id\" \n",
    "                                                  ,right_on = \"away_team_api_id\" \n",
    "                                                  ,how = \"left\" ).groupby(\"team_long_name\").size() + mathes_count_tsk12\n",
    "\n",
    "team_most_matches_bundesliga_2008_2009 = mathes_count_tsk12.max()"
   ]
  },
  {
   "cell_type": "markdown",
   "metadata": {},
   "source": [
    "**Task 13 (1 point).** Count total number of **Arsenal** matches (both home and away!) in the **2015/2016** season which they have won. <br><br>\n",
    "**Note:** Winning a game means scoring **more** goals than an opponent."
   ]
  },
  {
   "cell_type": "code",
   "execution_count": 287,
   "metadata": {},
   "outputs": [],
   "source": [
    "api_id_tsk13 = int(team_data[\"team_api_id\"][team_data.team_long_name.str.contains(\"Arsenal\")])\n",
    "mathes_data_tsk13 = mathes_data[[\"home_team_api_id\",\"away_team_api_id\",\n",
    "                                 \"home_team_goal\",\"away_team_goal\",\n",
    "                                 \"season\"]][\n",
    "        ((mathes_data.home_team_api_id == api_id_tsk13)  & (mathes_data.home_team_goal  > mathes_data.away_team_goal)) |\n",
    "        ((mathes_data.away_team_api_id == api_id_tsk13) & (mathes_data.home_team_goal  < mathes_data.away_team_goal))]\n",
    "mathes_data_tsk13['season'].astype('|S',copy=False)\n",
    "mathes_data_tsk13 = mathes_data_tsk13[mathes_data_tsk13.season.str.contains(\"2015/2016\")]\n",
    "arsenal_won_matches_2015_2016 = len(mathes_data_tsk13)"
   ]
  },
  {
   "cell_type": "markdown",
   "metadata": {},
   "source": [
    "**Task 14 (2 points).** Find a team with the highest win rate in the **2015/2016** season. Win rate means won matches / all matches. If there are several teams with the highest win rate return the first by name in lexical order"
   ]
  },
  {
   "cell_type": "code",
   "execution_count": 288,
   "metadata": {},
   "outputs": [],
   "source": [
    "team_data_tsk14 = team_data[[\"team_long_name\",\"team_api_id\"]]\n",
    "mathes_data_tsk14 = mathes_data[[\"home_team_api_id\",\"away_team_api_id\"\n",
    "                            ,\"season\"]]\n",
    "\n",
    "mathes_data_tsk14['season'].astype('|S',copy=False)\n",
    "mathes_data_tsk14 = mathes_data_tsk14[mathes_data_tsk14.season.str.contains(\"2015/2016\")]\n",
    "mathes_count_tsk14 = team_data_tsk14.merge(mathes_data_tsk14[\"home_team_api_id\"],left_on = \"team_api_id\" \n",
    "                            ,right_on = \"home_team_api_id\" \n",
    "                            ,how = \"left\" ).groupby(\"team_long_name\").size() \n",
    "mathes_count_tsk14 = team_data_tsk14.merge(mathes_data_tsk14[\"away_team_api_id\"],left_on = \"team_api_id\" \n",
    "                            ,right_on = \"away_team_api_id\" \n",
    "                            ,how = \"left\" ).groupby(\"team_long_name\").size() + mathes_count_tsk14\n",
    "\n",
    "mathes_win_ct_tsk14 = team_data_tsk14.merge(mathes_data_tsk14[\"home_team_api_id\"]\n",
    "                            [(mathes_data.home_team_goal > mathes_data.away_team_goal)]\n",
    "                            ,left_on = \"team_api_id\" \n",
    "                            ,right_on = \"home_team_api_id\" \n",
    "                            ,how = \"left\" ).groupby(\"team_long_name\").size() \n",
    "\n",
    "mathes_win_ct_tsk14 = team_data_tsk14.merge(mathes_data_tsk14[\"away_team_api_id\"]\n",
    "                            [(mathes_data.home_team_goal < mathes_data.away_team_goal)]\n",
    "                            ,left_on = \"team_api_id\" \n",
    "                            ,right_on = \"away_team_api_id\" \n",
    "                            ,how = \"left\" ).groupby(\"team_long_name\").size() + mathes_win_ct_tsk14\n",
    "\n",
    "team_highest_winrate_2015_2016 = ((mathes_win_ct_tsk14-2)/(mathes_count_tsk14-1)).sort_index().idxmax()# Your code here\n",
    "#print(team_highest_winrate_2015_2016)"
   ]
  },
  {
   "cell_type": "markdown",
   "metadata": {},
   "source": [
    "**Task 15 (2 points).** Determine the team with the maximum days' gap between matches in **England Premier League 2010/2011 season**. Return number of days in that gap. <br>\n",
    "**Note**: a *gap* means the number of days between two consecutive matches of the same team."
   ]
  },
  {
   "cell_type": "code",
   "execution_count": 289,
   "metadata": {},
   "outputs": [],
   "source": [
    "def gap_sum(date1,date2,str1,str2):\n",
    "    if (str1 == str2):\n",
    "        return (date2 - date1).days\n",
    "    else:\n",
    "        return 0\n",
    "\n",
    "\n",
    "team_data_tsk15 = team_data[[\"team_long_name\",\"team_api_id\"]]\n",
    "mathes_data_tsk15 = mathes_data[[\"home_team_api_id\",\"away_team_api_id\"\n",
    "                            ,\"season\",\"date\"]][mathes_data.league_id ==\n",
    "                            int(league_data[\"id\"][league_data.name.str.contains(\"England Premier League\")])]\n",
    "mathes_data_tsk15['season'].astype('|S',copy=False)\n",
    "mathes_data_tsk15 = mathes_data_tsk15[mathes_data_tsk15.season.str.contains(\"2010/2011\")]\n",
    "mathes_data_tsk15[\"date\"] = pd.to_datetime(mathes_data_tsk15.date)\n",
    "\n",
    "\n",
    "mathes_date_away_tsk15 = team_data_tsk15.merge(mathes_data_tsk15[[\"away_team_api_id\",\"date\"]],left_on = \"team_api_id\" \n",
    "                            ,right_on = \"away_team_api_id\" \n",
    "                            ,how = \"left\" )\n",
    "\n",
    "mathes_date_home_tsk15 = team_data_tsk15.merge(mathes_data_tsk15[[\"home_team_api_id\",\"date\"]],left_on = \"team_api_id\" \n",
    "                            ,right_on = \"home_team_api_id\" \n",
    "                            ,how = \"left\" )\n",
    "\n",
    "mathes_date_home_tsk15.drop([\"home_team_api_id\",\"team_api_id\"],axis = 1,inplace = True)\n",
    "mathes_date_away_tsk15.drop([\"away_team_api_id\",\"team_api_id\"],axis = 1,inplace = True)\n",
    "mathes_date_home_tsk15 = mathes_date_home_tsk15[(mathes_date_home_tsk15['date'].notna())]\n",
    "mathes_date_away_tsk15 = mathes_date_away_tsk15[(mathes_date_away_tsk15['date'].notna())]\n",
    "mathes_date_tsk15 = mathes_date_home_tsk15.append(mathes_date_away_tsk15).sort_values([\"team_long_name\",\"date\"])\n",
    "\n",
    "\n",
    "\n",
    "\n",
    "mathes_date_tsk15[\"next_date\"] = mathes_date_tsk15[\"date\"].shift(-1)\n",
    "mathes_date_tsk15[\"next_team_name\"] = mathes_date_tsk15[\"team_long_name\"].shift(-1)\n",
    "#print(mathes_date_tsk15)\n",
    "#print(mathes_date_tsk15.date.dtype)\n",
    "#print(mathes_date_tsk15)\n",
    "mathes_date_tsk15 = mathes_date_tsk15.apply(lambda row: gap_sum(row['date'], row['next_date'],\n",
    "                                                                row['team_long_name'],row['next_team_name']), axis=1)\n",
    "#mathes_date_tsk15 = pd.to_datetime(mathes_date_tsk15)\n",
    "#print(mathes_date_tsk15)\n",
    "\n",
    "highest_gap_england_2010_2011 = mathes_date_tsk15.max()# Your code here\n",
    "#print(highest_gap_england_2010_2011)"
   ]
  },
  {
   "cell_type": "markdown",
   "metadata": {},
   "source": [
    "### Warning! Do not change anything in the area below"
   ]
  },
  {
   "cell_type": "code",
   "execution_count": 290,
   "metadata": {},
   "outputs": [],
   "source": [
    "with open('student_answers.txt', 'w') as file:\n",
    "    file.write(f\"{players_180_190}\\n\")\n",
    "    file.write(f\"{players_1980}\\n\")\n",
    "    file.write(f\"{highest_players}\\n\")\n",
    "    file.write(f\"{years_born_players}\\n\")\n",
    "    file.write(f\"{round(adriano_mean, 3)} {round(adriano_std, 3)}\\n\")\n",
    "    file.write(f\"{dow_with_min_players_born}\\n\")\n",
    "    file.write(f\"{league_most_matches}\\n\")\n",
    "    file.write(f\"{max_matches_player}\\n\")\n",
    "    file.write(f\"{';'.join(['%s,%s' % tup for tup in top_correlated_features])};\\n\")\n",
    "    file.write(f\"{neymar_similarities}\\n\")\n",
    "    file.write(f\"{borussia_bundesliga_2008_2009_matches}\\n\")\n",
    "    file.write(f\"{team_most_matches_bundesliga_2008_2009}\\n\")\n",
    "    file.write(f\"{arsenal_won_matches_2015_2016}\\n\")\n",
    "    file.write(f\"{team_highest_winrate_2015_2016}\\n\")\n",
    "    file.write(f\"{highest_gap_england_2010_2011}\\n\")"
   ]
  },
  {
   "cell_type": "code",
   "execution_count": null,
   "metadata": {},
   "outputs": [],
   "source": []
  }
 ],
 "metadata": {
  "kernelspec": {
   "display_name": "Python 3",
   "language": "python",
   "name": "python3"
  },
  "language_info": {
   "codemirror_mode": {
    "name": "ipython",
    "version": 3
   },
   "file_extension": ".py",
   "mimetype": "text/x-python",
   "name": "python",
   "nbconvert_exporter": "python",
   "pygments_lexer": "ipython3",
   "version": "3.7.3"
  }
 },
 "nbformat": 4,
 "nbformat_minor": 5
}
